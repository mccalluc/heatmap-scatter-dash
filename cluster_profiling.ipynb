{
 "cells": [
  {
   "cell_type": "markdown",
   "metadata": {},
   "source": [
    "I started from [this tutorial](https://joernhees.de/blog/2015/08/26/scipy-hierarchical-clustering-and-dendrogram-tutorial/), but let me know if there are other sources I should check out."
   ]
  },
  {
   "cell_type": "code",
   "execution_count": 1,
   "metadata": {
    "collapsed": true
   },
   "outputs": [],
   "source": [
    "from scipy.cluster.hierarchy import leaves_list, linkage\n",
    "import pandas\n",
    "import numpy as np\n",
    "from time import time"
   ]
  },
  {
   "cell_type": "code",
   "execution_count": 2,
   "metadata": {
    "collapsed": true
   },
   "outputs": [],
   "source": [
    "def cluster(dataframe):\n",
    "    cols_linkage = linkage(dataframe.T, 'ward')\n",
    "    cols_order = leaves_list(cols_linkage).tolist()\n",
    "    col_labels = dataframe.columns.tolist()\n",
    "    col_label_order = [col_labels[i] for i in cols_order]\n",
    "\n",
    "    rows_linkage = linkage(dataframe, 'ward')\n",
    "    rows_order = leaves_list(rows_linkage).tolist()\n",
    "    row_labels = dataframe.index.tolist()\n",
    "    row_label_order = [row_labels[i] for i in rows_order]\n",
    "\n",
    "    return dataframe[col_label_order].loc[row_label_order]"
   ]
  },
  {
   "cell_type": "code",
   "execution_count": 3,
   "metadata": {
    "collapsed": false
   },
   "outputs": [],
   "source": [
    "dataframe = pandas.DataFrame(\n",
    "    [\n",
    "        [1, 4, 1, 5],\n",
    "        [8, 4, 8, 5],\n",
    "        [2, 4, 2, 5],\n",
    "        [9, 4, 9, 5]\n",
    "    ],\n",
    "    columns=['c1', 'c2', 'c3', 'c4'],\n",
    "    index=['r1', 'r2', 'r3', 'r4']\n",
    ")\n",
    "\n",
    "clustered = cluster(dataframe)\n",
    "    \n",
    "assert clustered.as_matrix().tolist() == [\n",
    "    [1, 1, 4, 5],\n",
    "    [2, 2, 4, 5],\n",
    "    [8, 8, 4, 5],\n",
    "    [9, 9, 4, 5]\n",
    "]\n",
    "assert clustered.columns.tolist() == ['c1', 'c3', 'c2', 'c4']\n",
    "assert clustered.index.tolist() == ['r1', 'r3', 'r2', 'r4']"
   ]
  },
  {
   "cell_type": "code",
   "execution_count": 4,
   "metadata": {
    "collapsed": true
   },
   "outputs": [],
   "source": [
    "def random_df(rows,cols):\n",
    "    array = np.random.rand(rows, cols)\n",
    "    col_labels = ['cond-{}'.format(i)\n",
    "                  for i in range(cols)]\n",
    "    row_labels = ['gene-{}'.format(i)\n",
    "                  for i in range(rows)]\n",
    "    return pandas.DataFrame(\n",
    "        array,\n",
    "        columns=col_labels,\n",
    "        index=row_labels)"
   ]
  },
  {
   "cell_type": "code",
   "execution_count": 10,
   "metadata": {
    "collapsed": true
   },
   "outputs": [],
   "source": [
    "def const_df(rows,cols):\n",
    "    array = np.full((rows, cols), 0.0)\n",
    "    col_labels = ['cond-{}'.format(i)\n",
    "                  for i in range(cols)]\n",
    "    row_labels = ['gene-{}'.format(i)\n",
    "                  for i in range(rows)]\n",
    "    return pandas.DataFrame(\n",
    "        array,\n",
    "        columns=col_labels,\n",
    "        index=row_labels)"
   ]
  },
  {
   "cell_type": "code",
   "execution_count": 12,
   "metadata": {
    "collapsed": false
   },
   "outputs": [],
   "source": [
    "def time_cluster(df):\n",
    "    start = time()\n",
    "    cluster(df)\n",
    "    end = time()\n",
    "    return end - start"
   ]
  },
  {
   "cell_type": "code",
   "execution_count": 16,
   "metadata": {
    "collapsed": false
   },
   "outputs": [
    {
     "data": {
      "text/html": [
       "<div>\n",
       "<style scoped>\n",
       "    .dataframe tbody tr th:only-of-type {\n",
       "        vertical-align: middle;\n",
       "    }\n",
       "\n",
       "    .dataframe tbody tr th {\n",
       "        vertical-align: top;\n",
       "    }\n",
       "\n",
       "    .dataframe thead th {\n",
       "        text-align: right;\n",
       "    }\n",
       "</style>\n",
       "<table border=\"1\" class=\"dataframe\">\n",
       "  <thead>\n",
       "    <tr style=\"text-align: right;\">\n",
       "      <th></th>\n",
       "      <th>5</th>\n",
       "      <th>25</th>\n",
       "    </tr>\n",
       "  </thead>\n",
       "  <tbody>\n",
       "    <tr>\n",
       "      <th>10</th>\n",
       "      <td>0.001986</td>\n",
       "      <td>0.001898</td>\n",
       "    </tr>\n",
       "    <tr>\n",
       "      <th>50</th>\n",
       "      <td>0.002218</td>\n",
       "      <td>0.002403</td>\n",
       "    </tr>\n",
       "    <tr>\n",
       "      <th>100</th>\n",
       "      <td>0.001894</td>\n",
       "      <td>0.001976</td>\n",
       "    </tr>\n",
       "    <tr>\n",
       "      <th>500</th>\n",
       "      <td>0.006028</td>\n",
       "      <td>0.008274</td>\n",
       "    </tr>\n",
       "    <tr>\n",
       "      <th>1000</th>\n",
       "      <td>0.017220</td>\n",
       "      <td>0.026527</td>\n",
       "    </tr>\n",
       "    <tr>\n",
       "      <th>5000</th>\n",
       "      <td>0.410697</td>\n",
       "      <td>0.595262</td>\n",
       "    </tr>\n",
       "    <tr>\n",
       "      <th>10000</th>\n",
       "      <td>1.579840</td>\n",
       "      <td>2.417594</td>\n",
       "    </tr>\n",
       "  </tbody>\n",
       "</table>\n",
       "</div>"
      ],
      "text/plain": [
       "             5         25\n",
       "10     0.001986  0.001898\n",
       "50     0.002218  0.002403\n",
       "100    0.001894  0.001976\n",
       "500    0.006028  0.008274\n",
       "1000   0.017220  0.026527\n",
       "5000   0.410697  0.595262\n",
       "10000  1.579840  2.417594"
      ]
     },
     "execution_count": 16,
     "metadata": {},
     "output_type": "execute_result"
    }
   ],
   "source": [
    "cols=[5,25]\n",
    "rows=[10,50,100,500,1000,5000,10000]\n",
    "pandas.DataFrame(\n",
    "    [[time_cluster(const_df(r, c)) for c in cols] for r in rows],\n",
    "    columns=cols,\n",
    "    index=rows\n",
    ")"
   ]
  },
  {
   "cell_type": "code",
   "execution_count": 14,
   "metadata": {
    "collapsed": false
   },
   "outputs": [
    {
     "data": {
      "text/html": [
       "<div>\n",
       "<style scoped>\n",
       "    .dataframe tbody tr th:only-of-type {\n",
       "        vertical-align: middle;\n",
       "    }\n",
       "\n",
       "    .dataframe tbody tr th {\n",
       "        vertical-align: top;\n",
       "    }\n",
       "\n",
       "    .dataframe thead th {\n",
       "        text-align: right;\n",
       "    }\n",
       "</style>\n",
       "<table border=\"1\" class=\"dataframe\">\n",
       "  <thead>\n",
       "    <tr style=\"text-align: right;\">\n",
       "      <th></th>\n",
       "      <th>5</th>\n",
       "      <th>25</th>\n",
       "    </tr>\n",
       "  </thead>\n",
       "  <tbody>\n",
       "    <tr>\n",
       "      <th>10</th>\n",
       "      <td>0.001995</td>\n",
       "      <td>0.002233</td>\n",
       "    </tr>\n",
       "    <tr>\n",
       "      <th>50</th>\n",
       "      <td>0.001941</td>\n",
       "      <td>0.001865</td>\n",
       "    </tr>\n",
       "    <tr>\n",
       "      <th>100</th>\n",
       "      <td>0.002065</td>\n",
       "      <td>0.002064</td>\n",
       "    </tr>\n",
       "    <tr>\n",
       "      <th>500</th>\n",
       "      <td>0.008196</td>\n",
       "      <td>0.010492</td>\n",
       "    </tr>\n",
       "    <tr>\n",
       "      <th>1000</th>\n",
       "      <td>0.024445</td>\n",
       "      <td>0.033961</td>\n",
       "    </tr>\n",
       "    <tr>\n",
       "      <th>5000</th>\n",
       "      <td>0.910093</td>\n",
       "      <td>1.082504</td>\n",
       "    </tr>\n",
       "    <tr>\n",
       "      <th>10000</th>\n",
       "      <td>3.795155</td>\n",
       "      <td>4.658869</td>\n",
       "    </tr>\n",
       "  </tbody>\n",
       "</table>\n",
       "</div>"
      ],
      "text/plain": [
       "             5         25\n",
       "10     0.001995  0.002233\n",
       "50     0.001941  0.001865\n",
       "100    0.002065  0.002064\n",
       "500    0.008196  0.010492\n",
       "1000   0.024445  0.033961\n",
       "5000   0.910093  1.082504\n",
       "10000  3.795155  4.658869"
      ]
     },
     "execution_count": 14,
     "metadata": {},
     "output_type": "execute_result"
    }
   ],
   "source": [
    "cols=[5,25]\n",
    "rows=[10,50,100,500,1000,5000,10000]\n",
    "pandas.DataFrame(\n",
    "    [[time_cluster(random_df(r, c)) for c in cols] for r in rows],\n",
    "    columns=cols,\n",
    "    index=rows\n",
    ")"
   ]
  },
  {
   "cell_type": "code",
   "execution_count": 17,
   "metadata": {
    "collapsed": false
   },
   "outputs": [
    {
     "data": {
      "text/html": [
       "<div>\n",
       "<style scoped>\n",
       "    .dataframe tbody tr th:only-of-type {\n",
       "        vertical-align: middle;\n",
       "    }\n",
       "\n",
       "    .dataframe tbody tr th {\n",
       "        vertical-align: top;\n",
       "    }\n",
       "\n",
       "    .dataframe thead th {\n",
       "        text-align: right;\n",
       "    }\n",
       "</style>\n",
       "<table border=\"1\" class=\"dataframe\">\n",
       "  <thead>\n",
       "    <tr style=\"text-align: right;\">\n",
       "      <th></th>\n",
       "      <th>5</th>\n",
       "      <th>25</th>\n",
       "    </tr>\n",
       "  </thead>\n",
       "  <tbody>\n",
       "    <tr>\n",
       "      <th>10000</th>\n",
       "      <td>3.866267</td>\n",
       "      <td>4.759982</td>\n",
       "    </tr>\n",
       "    <tr>\n",
       "      <th>20000</th>\n",
       "      <td>18.907857</td>\n",
       "      <td>22.474682</td>\n",
       "    </tr>\n",
       "    <tr>\n",
       "      <th>30000</th>\n",
       "      <td>52.796474</td>\n",
       "      <td>61.883403</td>\n",
       "    </tr>\n",
       "  </tbody>\n",
       "</table>\n",
       "</div>"
      ],
      "text/plain": [
       "              5          25\n",
       "10000   3.866267   4.759982\n",
       "20000  18.907857  22.474682\n",
       "30000  52.796474  61.883403"
      ]
     },
     "execution_count": 17,
     "metadata": {},
     "output_type": "execute_result"
    }
   ],
   "source": [
    "rows=[10000,20000,30000]\n",
    "pandas.DataFrame(\n",
    "    [[time_cluster(random_df(r, c)) for c in cols] for r in rows],\n",
    "    columns=cols,\n",
    "    index=rows\n",
    ")"
   ]
  },
  {
   "cell_type": "markdown",
   "metadata": {},
   "source": [
    "Take homes:\n",
    "- Clustering speed depends on characteristics of input.\n",
    "- Increasing the column count won't matter that much at the scale we're dealing with.\n",
    "- This gives us a better sense of when we might start running into multiple minute runtimes.\n",
    "- Letting the UI offer reclustering of subsets is not inconceivable."
   ]
  },
  {
   "cell_type": "code",
   "execution_count": null,
   "metadata": {
    "collapsed": true
   },
   "outputs": [],
   "source": []
  }
 ],
 "metadata": {
  "kernelspec": {
   "display_name": "Python 3",
   "language": "python",
   "name": "python3"
  },
  "language_info": {
   "codemirror_mode": {
    "name": "ipython",
    "version": 3
   },
   "file_extension": ".py",
   "mimetype": "text/x-python",
   "name": "python",
   "nbconvert_exporter": "python",
   "pygments_lexer": "ipython3",
   "version": "3.6.0"
  }
 },
 "nbformat": 4,
 "nbformat_minor": 2
}
